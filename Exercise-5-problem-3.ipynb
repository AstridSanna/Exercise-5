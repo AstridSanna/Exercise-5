{
 "cells": [
  {
   "cell_type": "markdown",
   "source": [
    "## Problem 3 - Data analysis (*4 points*)\n",
    "\n",
    "In this problem we will explore our temperature data by comparing spring temperatures between Helsinki Kumpula and Rovaniemi. To do this we'll use some conditions to extract subsets of our data and then analyse these subsets using basic Pandas functions. Please perform the tasks below by writing your code into the codeblocks in each section.\n",
    "\n",
    "**Notice**: Closely follow the instructions! For example, you should be sure to use **exactly** the same variable names mentioned in the instructions because your answers will be automatically graded, and the tests that grade your answers rely on following the same formatting or variable naming as in the instructions.\n",
    "\n",
    "**Your score on this problem will be based on following criteria:**\n",
    "\n",
    "- Calculating the median temperatures for Helsinki Kumpula and Rovaniemi for the summer of 2017\n",
    "- Selecting temperatures for May and June 2017 in separate dataframes for each location\n",
    "- Printing out some summary values for each month (May, June) and location (Kumpula, Rovaniemi)\n",
    "- Including comments that explain what most lines in the code do\n",
    "- Answering a couple questions at the end of the problem\n",
    "- Uploading your notebook and data files to your GitHub repository for this week's exercise"
   ],
   "metadata": {
    "deletable": false,
    "editable": false,
    "nbgrader": {
     "cell_type": "markdown",
     "checksum": "861669d3aadf752ee237a135a2aca25e",
     "grade": false,
     "grade_id": "Intro_text",
     "locked": true,
     "schema_version": 3,
     "solution": false
    }
   }
  },
  {
   "cell_type": "markdown",
   "source": [
    "### Part 1 (*0 points*)\n",
    "\n",
    "First, you need to load the data from Problem 2.\n",
    "\n",
    "- Read in the csv files generated in Problem 2 to the variables `kumpula` and `rovaniemi`"
   ],
   "metadata": {
    "deletable": false,
    "editable": false,
    "nbgrader": {
     "cell_type": "markdown",
     "checksum": "ff62ce9d296a1db67758cf613013863c",
     "grade": false,
     "grade_id": "cell-33c2d0518738c711",
     "locked": true,
     "schema_version": 3,
     "solution": false,
     "task": false
    }
   }
  },
  {
   "cell_type": "code",
   "execution_count": 2,
   "source": [
    "import pandas as pd\r\n"
   ],
   "outputs": [],
   "metadata": {}
  },
  {
   "cell_type": "code",
   "execution_count": 4,
   "source": [
    "# YOUR CODE HERE\r\n",
    "kumpula = pd.read_csv('Kumpula_temps_May_Aug_2017.csv')\r\n",
    "rovaniemi = pd.read_csv('Rovaniemi_temps_May_Aug_2017.csv')"
   ],
   "outputs": [],
   "metadata": {
    "deletable": false,
    "nbgrader": {
     "cell_type": "code",
     "checksum": "deb603f4e6e03059689d01f3d8ca3044",
     "grade": false,
     "grade_id": "problem_3_ag_p1_read_data",
     "locked": false,
     "schema_version": 3,
     "solution": true
    }
   }
  },
  {
   "cell_type": "code",
   "execution_count": 5,
   "source": [
    "print(kumpula.head())\r\n",
    "print('')\r\n",
    "print(rovaniemi.head())"
   ],
   "outputs": [
    {
     "output_type": "stream",
     "name": "stdout",
     "text": [
      "   Unnamed: 0   USAF  YR--MODAHRMN  TEMP  MAX  MIN  Celsius\n",
      "0        8770  29980  201705010000  37.0  NaN  NaN     2.78\n",
      "1        8771  29980  201705010100  37.0  NaN  NaN     2.78\n",
      "2        8772  29980  201705010200  37.0  NaN  NaN     2.78\n",
      "3        8773  29980  201705010300  37.0  NaN  NaN     2.78\n",
      "4        8774  29980  201705010400  39.0  NaN  NaN     3.89\n",
      "\n",
      "   Unnamed: 0   USAF  YR--MODAHRMN  TEMP  MAX  MIN  Celsius\n",
      "0           0  28450  201705010000  31.0  NaN  NaN    -0.56\n",
      "1           1  28450  201705010020  30.0  NaN  NaN    -1.11\n",
      "2           2  28450  201705010050  30.0  NaN  NaN    -1.11\n",
      "3           3  28450  201705010100  31.0  NaN  NaN    -0.56\n",
      "4           4  28450  201705010120  30.0  NaN  NaN    -1.11\n"
     ]
    }
   ],
   "metadata": {}
  },
  {
   "cell_type": "markdown",
   "source": [
    "### Part 2 (*1 points*)\n",
    "\n",
    "Next you can find some median temperature values for the period the data covers.\n",
    "\n",
    "- What was the median Celsius temperature during the observed period in:\n",
    "    - Helsinki Kumpula? (store the answer in a variable `kumpula_median`)\n",
    "    - Rovaniemi? (store the answer in a variable `rovaniemi_median`)"
   ],
   "metadata": {
    "deletable": false,
    "editable": false,
    "nbgrader": {
     "cell_type": "markdown",
     "checksum": "e4ee30d36f346836075c045ef8143c79",
     "grade": false,
     "grade_id": "cell-c25a29efbcf77ee7",
     "locked": true,
     "schema_version": 3,
     "solution": false,
     "task": false
    }
   }
  },
  {
   "cell_type": "code",
   "execution_count": 6,
   "source": [
    "kumpula.columns"
   ],
   "outputs": [
    {
     "output_type": "execute_result",
     "data": {
      "text/plain": [
       "Index(['Unnamed: 0', 'USAF', 'YR--MODAHRMN', 'TEMP', 'MAX', 'MIN', 'Celsius'], dtype='object')"
      ]
     },
     "metadata": {},
     "execution_count": 6
    }
   ],
   "metadata": {}
  },
  {
   "cell_type": "code",
   "execution_count": 8,
   "source": [
    "# YOUR CODE HERE\r\n",
    "kumpula_median = kumpula['Celsius'].median()\r\n",
    "rovaniemi_median = rovaniemi['Celsius'].median()"
   ],
   "outputs": [],
   "metadata": {
    "deletable": false,
    "nbgrader": {
     "cell_type": "code",
     "checksum": "975856c4e5d377c3aaabec3af0fe53da",
     "grade": false,
     "grade_id": "problem_3_ag_p2_median",
     "locked": false,
     "schema_version": 3,
     "solution": true
    }
   }
  },
  {
   "cell_type": "code",
   "execution_count": 9,
   "source": [
    "# Prints the median temperatures\r\n",
    "print(\"Kumpula median: \", kumpula_median)\r\n",
    "print(\"Rovaniemi median: \", rovaniemi_median)\r\n"
   ],
   "outputs": [
    {
     "output_type": "stream",
     "name": "stdout",
     "text": [
      "Kumpula median:  14.44\n",
      "Rovaniemi median:  11.11\n"
     ]
    }
   ],
   "metadata": {
    "deletable": false,
    "editable": false,
    "nbgrader": {
     "cell_type": "code",
     "checksum": "af1625653d727094aa878c6b5a7582ba",
     "grade": true,
     "grade_id": "problem_3_ag_p2_median_test",
     "locked": true,
     "points": 1,
     "schema_version": 3,
     "solution": false
    }
   }
  },
  {
   "cell_type": "markdown",
   "source": [
    "### Part 3 (*2 points*)\r\n",
    "\r\n",
    "The median temperatures above consider data from the entire summer (May-Aug), hence the differences might not be so clear. Let's now find out the mean temperatures from May and June 2017 in Kumpula and Rovaniemi.\r\n",
    "\r\n",
    "- From the `kumpula` and `rovaniemi` DataFrames, select the rows where values of the `YR--MODAHRMN` column are from May 2017\r\n",
    "    - Assign these selected rows into the variables `kumpula_may` and `rovaniemi_may` (you can check the [hints](https://geo-python.github.io/site/lessons/L5/exercise-5.html) for help!)\r\n",
    "- Repeat the procedure for the month of June and assign those values into variables to `kumpula_june` and `rovaniemi_june`"
   ],
   "metadata": {
    "deletable": false,
    "editable": false,
    "nbgrader": {
     "cell_type": "markdown",
     "checksum": "72c55344ad098bb58a9f6c3647d37677",
     "grade": false,
     "grade_id": "cell-6eda08b036b421d9",
     "locked": true,
     "schema_version": 3,
     "solution": false,
     "task": false
    }
   }
  },
  {
   "cell_type": "code",
   "execution_count": 12,
   "source": [
    "kumpula['YR--MODAHRMN']"
   ],
   "outputs": [
    {
     "output_type": "execute_result",
     "data": {
      "text/plain": [
       "0       201705010000\n",
       "1       201705010100\n",
       "2       201705010200\n",
       "3       201705010300\n",
       "4       201705010400\n",
       "            ...     \n",
       "2919    201708311900\n",
       "2920    201708312000\n",
       "2921    201708312100\n",
       "2922    201708312200\n",
       "2923    201708312300\n",
       "Name: YR--MODAHRMN, Length: 2924, dtype: int64"
      ]
     },
     "metadata": {},
     "execution_count": 12
    }
   ],
   "metadata": {}
  },
  {
   "cell_type": "code",
   "execution_count": 18,
   "source": [
    "# YOUR CODE HERE\r\n",
    "# Select the subset of the Kumpula and Rovaniemi data for the 5th and 6th month\r\n",
    "kumpula_may = kumpula.loc[(kumpula['YR--MODAHRMN'] >= 201705010000) & (kumpula['YR--MODAHRMN'] < 201706010000)]\r\n",
    "rovaniemi_may = rovaniemi.loc[(rovaniemi['YR--MODAHRMN'] >= 201705010000) & (rovaniemi['YR--MODAHRMN'] < 201706010000)]\r\n",
    "\r\n",
    "kumpula_june = kumpula.loc[(kumpula['YR--MODAHRMN'] >= 201706010000) & (kumpula['YR--MODAHRMN'] < 201707010000)]\r\n",
    "rovaniemi_june = rovaniemi.loc[(rovaniemi['YR--MODAHRMN'] >= 201706010000) & (rovaniemi['YR--MODAHRMN'] < 201707010000)]\r\n"
   ],
   "outputs": [],
   "metadata": {
    "deletable": false,
    "nbgrader": {
     "cell_type": "code",
     "checksum": "e658e48c072ada99e4541860ebaf0095",
     "grade": false,
     "grade_id": "problem_3_ag_p3_may",
     "locked": false,
     "schema_version": 3,
     "solution": true
    }
   }
  },
  {
   "cell_type": "markdown",
   "source": [],
   "metadata": {}
  },
  {
   "cell_type": "markdown",
   "source": [
    "Check that the subsets look ok:"
   ],
   "metadata": {
    "deletable": false,
    "editable": false,
    "nbgrader": {
     "cell_type": "markdown",
     "checksum": "ced113a7a44f6c3bc88de58a3dc62056",
     "grade": false,
     "grade_id": "cell-c20a16ae3d1442cb",
     "locked": true,
     "schema_version": 3,
     "solution": false,
     "task": false
    }
   }
  },
  {
   "cell_type": "code",
   "execution_count": 19,
   "source": [
    "print(\"First values in May, Kumpula:\\n\", kumpula_may.head())\r\n",
    "print(\"\\nLast values in May, Kumpula:\\n\", kumpula_may.tail())"
   ],
   "outputs": [
    {
     "output_type": "stream",
     "name": "stdout",
     "text": [
      "First values in May, Kumpula:\n",
      "    Unnamed: 0   USAF  YR--MODAHRMN  TEMP  MAX  MIN  Celsius\n",
      "0        8770  29980  201705010000  37.0  NaN  NaN     2.78\n",
      "1        8771  29980  201705010100  37.0  NaN  NaN     2.78\n",
      "2        8772  29980  201705010200  37.0  NaN  NaN     2.78\n",
      "3        8773  29980  201705010300  37.0  NaN  NaN     2.78\n",
      "4        8774  29980  201705010400  39.0  NaN  NaN     3.89\n",
      "\n",
      "Last values in May, Kumpula:\n",
      "      Unnamed: 0   USAF  YR--MODAHRMN  TEMP  MAX  MIN  Celsius\n",
      "736        9506  29980  201705311900  51.0  NaN  NaN    10.56\n",
      "737        9507  29980  201705312000  50.0  NaN  NaN    10.00\n",
      "738        9508  29980  201705312100  47.0  NaN  NaN     8.33\n",
      "739        9509  29980  201705312200  44.0  NaN  NaN     6.67\n",
      "740        9510  29980  201705312300  43.0  NaN  NaN     6.11\n"
     ]
    }
   ],
   "metadata": {
    "deletable": false,
    "editable": false,
    "nbgrader": {
     "cell_type": "code",
     "checksum": "385c9e1f2b1a7db7b05cf7e3594a4271",
     "grade": true,
     "grade_id": "problem_3_ag_p3_Kumpula_may_test",
     "locked": true,
     "points": 0.5,
     "schema_version": 3,
     "solution": false
    }
   }
  },
  {
   "cell_type": "code",
   "execution_count": 20,
   "source": [
    "print(\"First values in June, Kumpula:\\n\", kumpula_june.head())\r\n",
    "print(\"\\nLast values in June, Kumpula:\\n\", kumpula_june.tail())"
   ],
   "outputs": [
    {
     "output_type": "stream",
     "name": "stdout",
     "text": [
      "First values in June, Kumpula:\n",
      "      Unnamed: 0   USAF  YR--MODAHRMN  TEMP  MAX  MIN  Celsius\n",
      "741        9511  29980  201706010000  42.0  NaN  NaN     5.56\n",
      "742        9512  29980  201706010100  40.0  NaN  NaN     4.44\n",
      "743        9513  29980  201706010200  40.0  NaN  NaN     4.44\n",
      "744        9514  29980  201706010300  41.0  NaN  NaN     5.00\n",
      "745        9515  29980  201706010400  44.0  NaN  NaN     6.67\n",
      "\n",
      "Last values in June, Kumpula:\n",
      "       Unnamed: 0   USAF  YR--MODAHRMN  TEMP  MAX  MIN  Celsius\n",
      "1450       10220  29980  201706301900  65.0  NaN  NaN    18.33\n",
      "1451       10221  29980  201706302000  61.0  NaN  NaN    16.11\n",
      "1452       10222  29980  201706302100  63.0  NaN  NaN    17.22\n",
      "1453       10223  29980  201706302200  62.0  NaN  NaN    16.67\n",
      "1454       10224  29980  201706302300  61.0  NaN  NaN    16.11\n"
     ]
    }
   ],
   "metadata": {
    "deletable": false,
    "editable": false,
    "nbgrader": {
     "cell_type": "code",
     "checksum": "88e98aa625e24cd68ede4b6f1e4adea6",
     "grade": true,
     "grade_id": "problem_3_ag_p3_Kumpula_june_test",
     "locked": true,
     "points": 0.5,
     "schema_version": 3,
     "solution": false,
     "task": false
    }
   }
  },
  {
   "cell_type": "code",
   "execution_count": 21,
   "source": [
    "print(\"First values in May, Rovaniemi:\\n\", rovaniemi_may.head())\r\n",
    "print(\"\\nLast values in May, Rovaniemi:\\n\", rovaniemi_may.tail())"
   ],
   "outputs": [
    {
     "output_type": "stream",
     "name": "stdout",
     "text": [
      "First values in May, Rovaniemi:\n",
      "    Unnamed: 0   USAF  YR--MODAHRMN  TEMP  MAX  MIN  Celsius\n",
      "0           0  28450  201705010000  31.0  NaN  NaN    -0.56\n",
      "1           1  28450  201705010020  30.0  NaN  NaN    -1.11\n",
      "2           2  28450  201705010050  30.0  NaN  NaN    -1.11\n",
      "3           3  28450  201705010100  31.0  NaN  NaN    -0.56\n",
      "4           4  28450  201705010120  30.0  NaN  NaN    -1.11\n",
      "\n",
      "Last values in May, Rovaniemi:\n",
      "       Unnamed: 0   USAF  YR--MODAHRMN  TEMP  MAX  MIN  Celsius\n",
      "2217        2217  28450  201705312220  32.0  NaN  NaN     0.00\n",
      "2218        2218  28450  201705312250  32.0  NaN  NaN     0.00\n",
      "2219        2219  28450  201705312300  33.0  NaN  NaN     0.56\n",
      "2220        2220  28450  201705312320  32.0  NaN  NaN     0.00\n",
      "2221        2221  28450  201705312350  30.0  NaN  NaN    -1.11\n"
     ]
    }
   ],
   "metadata": {
    "deletable": false,
    "editable": false,
    "nbgrader": {
     "cell_type": "code",
     "checksum": "87ed00be6e41ac1056a4693a2a9c9c80",
     "grade": true,
     "grade_id": "problem_3_ag_p3_Rovaniemi_may_test",
     "locked": true,
     "points": 0.5,
     "schema_version": 3,
     "solution": false
    }
   }
  },
  {
   "cell_type": "code",
   "execution_count": 22,
   "source": [
    "print(\"First values in June, Rovaniemi:\\n\", rovaniemi_june.head())\r\n",
    "print(\"\\nLast values in June, Rovaniemi:\\n\", rovaniemi_june.tail())"
   ],
   "outputs": [
    {
     "output_type": "stream",
     "name": "stdout",
     "text": [
      "First values in June, Rovaniemi:\n",
      "       Unnamed: 0   USAF  YR--MODAHRMN  TEMP  MAX  MIN  Celsius\n",
      "2222        2222  28450  201706010000  32.0  NaN  NaN     0.00\n",
      "2223        2223  28450  201706010020  30.0  NaN  NaN    -1.11\n",
      "2224        2224  28450  201706010050  30.0  NaN  NaN    -1.11\n",
      "2225        2225  28450  201706010100  31.0  NaN  NaN    -0.56\n",
      "2226        2226  28450  201706010120  30.0  NaN  NaN    -1.11\n",
      "\n",
      "Last values in June, Rovaniemi:\n",
      "       Unnamed: 0   USAF  YR--MODAHRMN  TEMP  MAX  MIN  Celsius\n",
      "4344        4344  28450  201706302220  57.0  NaN  NaN    13.89\n",
      "4345        4345  28450  201706302250  57.0  NaN  NaN    13.89\n",
      "4346        4346  28450  201706302300  56.0  NaN  NaN    13.33\n",
      "4347        4347  28450  201706302320  57.0  NaN  NaN    13.89\n",
      "4348        4348  28450  201706302350  57.0  NaN  NaN    13.89\n"
     ]
    }
   ],
   "metadata": {
    "deletable": false,
    "editable": false,
    "nbgrader": {
     "cell_type": "code",
     "checksum": "1d8347f3054c5b3ee968fa04d5c6ee64",
     "grade": true,
     "grade_id": "problem_3_ag_p3_Rovaniemi_june_test",
     "locked": true,
     "points": 0.5,
     "schema_version": 3,
     "solution": false,
     "task": false
    }
   }
  },
  {
   "cell_type": "markdown",
   "source": [
    "### Part 4 (*1 point*)\n",
    "\n",
    "Now you can make your temperature data from both locations and months easier to compare by printing out a few useful values.\n",
    "\n",
    "- Use the `print()` function to show the mean, min and max Celsius temperatures for both places in May and June using the new subset dataframes (`kumpula_may`, `rovaniemi_may`, `kumpula_june`, and `rovaniemi_june`)."
   ],
   "metadata": {
    "deletable": false,
    "editable": false,
    "nbgrader": {
     "cell_type": "markdown",
     "checksum": "1cf68fffc5eafa68e70f9369a26c21a5",
     "grade": false,
     "grade_id": "cell-5d735e872f16ccd5",
     "locked": true,
     "schema_version": 3,
     "solution": false,
     "task": false
    }
   }
  },
  {
   "cell_type": "code",
   "execution_count": 28,
   "source": [
    "# YOUR CODE HERE\r\n",
    "print(kumpula_may['Celsius'].min(), kumpula_june['Celsius'].min())\r\n",
    "print(kumpula_may['Celsius'].max())\r\n",
    "print(kumpula_may['Celsius'].mean())\r\n",
    "\r\n",
    "print(rovaniemi_may['Celsius'].min())\r\n",
    "print(rovaniemi_may['Celsius'].max())\r\n",
    "print(rovaniemi_may['Celsius'].mean())"
   ],
   "outputs": [
    {
     "output_type": "stream",
     "name": "stdout",
     "text": [
      "-2.22 2.78\n",
      "22.78\n",
      "9.757840755735492\n",
      "-7.22\n",
      "15.0\n",
      "2.991684684684685\n"
     ]
    }
   ],
   "metadata": {
    "deletable": false,
    "nbgrader": {
     "cell_type": "code",
     "checksum": "12a6c95dd173d219530d35b72f81490f",
     "grade": true,
     "grade_id": "problem_3_mg_p4_May_and_June_stats",
     "locked": false,
     "points": 1,
     "schema_version": 3,
     "solution": true
    }
   }
  },
  {
   "cell_type": "markdown",
   "source": [
    "### Problem 3 summary\n",
    "\n",
    "In the spirit of [knowledge discovery](http://researcher.ibm.com/researcher/view_group.php?id=144), let's briefly interpret the results of the data analysis in Problem 3. Please answer the following questions based on the data analysis results from this problem:\n",
    "\n",
    "- Does there seem to be a large difference in temperatures between the months?\n",
    "- Is Rovaniemi a much colder place than Kumpula?\n",
    "\n",
    "Also, be sure to:\n",
    "\n",
    "- Check that your code includes informative comments explaining what your code does\n",
    "- Commit and push your changes to your GitHub repository for Exercise 5"
   ],
   "metadata": {
    "deletable": false,
    "editable": false,
    "nbgrader": {
     "cell_type": "markdown",
     "checksum": "c19a758e3ace532979854894a73433a0",
     "grade": false,
     "grade_id": "comments",
     "locked": true,
     "schema_version": 3,
     "solution": false
    }
   }
  },
  {
   "cell_type": "markdown",
   "source": [
    "YOUR ANSWER HERE"
   ],
   "metadata": {
    "deletable": false,
    "nbgrader": {
     "cell_type": "markdown",
     "checksum": "1f0848d8fe16e12f1951ccdd1b5edf83",
     "grade": true,
     "grade_id": "problem_3_mg_p5_questions",
     "locked": false,
     "points": 0,
     "schema_version": 3,
     "solution": true,
     "task": false
    }
   }
  },
  {
   "cell_type": "markdown",
   "source": [
    "### On to Problem 4 (*optional*)\n",
    "\n",
    "Now you can continue to the *optional* [Problem 4: Data analysis](Exercise-5-problem-4.ipynb)"
   ],
   "metadata": {
    "deletable": false,
    "editable": false,
    "nbgrader": {
     "cell_type": "markdown",
     "checksum": "0e5f52b74f4ffaea57ca77ace2732647",
     "grade": false,
     "grade_id": "text",
     "locked": true,
     "schema_version": 3,
     "solution": false
    }
   }
  }
 ],
 "metadata": {
  "anaconda-cloud": {},
  "kernelspec": {
   "name": "python3",
   "display_name": "Python 3.9.6 64-bit"
  },
  "language_info": {
   "codemirror_mode": {
    "name": "ipython",
    "version": 3
   },
   "file_extension": ".py",
   "mimetype": "text/x-python",
   "name": "python",
   "nbconvert_exporter": "python",
   "pygments_lexer": "ipython3",
   "version": "3.9.6"
  },
  "interpreter": {
   "hash": "63fd5069d213b44bf678585dea6b12cceca9941eaf7f819626cde1f2670de90d"
  }
 },
 "nbformat": 4,
 "nbformat_minor": 4
}