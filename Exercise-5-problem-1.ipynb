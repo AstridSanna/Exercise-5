{
 "cells": [
  {
   "cell_type": "markdown",
   "metadata": {
    "deletable": false,
    "editable": false,
    "nbgrader": {
     "cell_type": "markdown",
     "checksum": "f923861315bcca1bb1439febea0f7660",
     "grade": false,
     "grade_id": "cell-1e760a9173223eac",
     "locked": true,
     "schema_version": 3,
     "solution": false
    }
   },
   "source": [
    "## Problem 1 - Basic statistics of the data (*2 points*)\n",
    "\n",
    "In this problem your task is to open and explore a NOAA weather data file using Pandas. The data file name is `6153237444115dat.csv` and it is located in the `data`-folder in this repository. \n",
    "\n",
    "**Notice**: Please use the proposed variable names in your solutions. The exercises are graded automatically, and the automatic tessts might otherwise fail unnecessarily. Also, please do not copy/paste existing code cells. You can add cells if you like using the `+` sign at the top of the notebook, but copying and pasting can cause the automatic tests to fail.\n",
    "\n",
    "**Your score on this problem will be based on following criteria:**\n",
    "\n",
    "- Importing the Pandas module\n",
    "- Reading the data using Pandas into a variable called `data`\n",
    "- Calculating a number of values from the data file used in this problem\n",
    "- Including comments that explain what most lines in the code do\n",
    "- Answering a couple questions at the end of the problem\n",
    "- Uploading your notebook to your GitHub repository for this week's exercise  "
   ]
  },
  {
   "cell_type": "markdown",
   "metadata": {
    "deletable": false,
    "editable": false,
    "nbgrader": {
     "cell_type": "markdown",
     "checksum": "4c4fceb3d1b0907b7cbb9423bdf09578",
     "grade": false,
     "grade_id": "cell-5f1b764c6963516b",
     "locked": true,
     "schema_version": 3,
     "solution": false,
     "task": false
    }
   },
   "source": [
    "### Part 1 (*0.5 points*)\n",
    "\n",
    "Your first task is to import Pandas and read in the data file.\n",
    "\n",
    "- Import the Pandas module\n",
    "- Read the data into a variable called `data` using Pandas \n",
    "\n",
    "**Hint**: When reading the data, you need to consider a couple of things:\n",
    "\n",
    "- Note that the input file is located in the `data` folder, and you need to consider this in the filepath when reading the file to Pandas\n",
    "- No-data values are specified with varying number of `*` characters in the input file. You can tell this to Pandas by specifying a following parameter in the Pandas `read_csv()` function: `na_values=['*', '**', '***', '****', '*****', '******']`     "
   ]
  },
  {
   "cell_type": "code",
   "execution_count": null,
   "metadata": {
    "deletable": false,
    "nbgrader": {
     "cell_type": "code",
     "checksum": "62d6866c5db55fee156dbe144b805f62",
     "grade": false,
     "grade_id": "read_csv",
     "locked": false,
     "schema_version": 3,
     "solution": true
    }
   },
   "outputs": [],
   "source": [
    "\n",
    "data = None\n",
    "\n",
    "# REPLACE THE ERROR BELOW WITH YOUR OWN CODE\n",
    "raise NotImplementedError()"
   ]
  },
  {
   "cell_type": "markdown",
   "metadata": {},
   "source": [
    "Check that the first rows of the DataFrame look ok: "
   ]
  },
  {
   "cell_type": "code",
   "execution_count": null,
   "metadata": {
    "deletable": false,
    "editable": false,
    "nbgrader": {
     "cell_type": "code",
     "checksum": "53c434a0729719ff01b15c7761043d29",
     "grade": true,
     "grade_id": "problem_1_read_csv_test",
     "locked": true,
     "points": 0.5,
     "schema_version": 3,
     "solution": false
    }
   },
   "outputs": [],
   "source": [
    "data.head()"
   ]
  },
  {
   "cell_type": "markdown",
   "metadata": {
    "deletable": false,
    "editable": false,
    "nbgrader": {
     "cell_type": "markdown",
     "checksum": "224e1ad366dfb16df3cf676cf1b59490",
     "grade": false,
     "grade_id": "cell-52993769979e9829",
     "locked": true,
     "schema_version": 3,
     "solution": false,
     "task": false
    }
   },
   "source": [
    "### Part 2 (*0.5 points*)   \n",
    "\n",
    "In the cell below, fill in the variables values to print answers to these questions:\n",
    "\n",
    "- How many rows is there in the data (variable `rows`)?\n",
    "- What are the column names (variable `column_names`)?\n",
    "- What are the datatypes of the columns (variable `column_datatypes`)?"
   ]
  },
  {
   "cell_type": "code",
   "execution_count": null,
   "metadata": {
    "deletable": false,
    "nbgrader": {
     "cell_type": "code",
     "checksum": "cbaf02c46c45687cb67e2dfac3b98d73",
     "grade": false,
     "grade_id": "cell-9cc882c07ce1e9c0",
     "locked": false,
     "schema_version": 3,
     "solution": true,
     "task": false
    }
   },
   "outputs": [],
   "source": [
    "\n",
    "row_count = None\n",
    "column_names = None\n",
    "column_datatypes = None\n",
    "\n",
    "# REPLACE THE ERROR BELOW WITH YOUR OWN CODE\n",
    "raise NotImplementedError()"
   ]
  },
  {
   "cell_type": "code",
   "execution_count": null,
   "metadata": {
    "deletable": false,
    "editable": false,
    "nbgrader": {
     "cell_type": "code",
     "checksum": "c55d575744ea1b4dbcb4a5ff108673f2",
     "grade": true,
     "grade_id": "problem_1_pandas_data_test1",
     "locked": true,
     "points": 0.1,
     "schema_version": 3,
     "solution": false
    }
   },
   "outputs": [],
   "source": [
    "# Print the number of rows in the dataframe:\n",
    "print(\"There are \" + str(row_count) + \" rows\")"
   ]
  },
  {
   "cell_type": "code",
   "execution_count": null,
   "metadata": {
    "deletable": false,
    "editable": false,
    "nbgrader": {
     "cell_type": "code",
     "checksum": "52195bad21c5c5c8daa154252c45d61f",
     "grade": true,
     "grade_id": "problem_1_pandas_data_test2",
     "locked": true,
     "points": 0.2,
     "schema_version": 3,
     "solution": false
    }
   },
   "outputs": [],
   "source": [
    "# Print the column names:\n",
    "print(\"The columns are: \\n\", column_names)"
   ]
  },
  {
   "cell_type": "code",
   "execution_count": null,
   "metadata": {
    "deletable": false,
    "editable": false,
    "nbgrader": {
     "cell_type": "code",
     "checksum": "5a625de5d22e4969978938371ca22cf8",
     "grade": true,
     "grade_id": "problem_1_pandas_data_test3",
     "locked": true,
     "points": 0.2,
     "schema_version": 3,
     "solution": false
    }
   },
   "outputs": [],
   "source": [
    "# Print the column datatypes:\n",
    "print(\"The column types are: \\n\", column_datatypes)"
   ]
  },
  {
   "cell_type": "markdown",
   "metadata": {
    "deletable": false,
    "editable": false,
    "nbgrader": {
     "cell_type": "markdown",
     "checksum": "5fa7ac25622de7ff1415b83467ea2b46",
     "grade": false,
     "grade_id": "cell-084bfa64c8d7ad54",
     "locked": true,
     "schema_version": 3,
     "solution": false,
     "task": false
    }
   },
   "source": [
    "### Part 3 (*1 point*)   \n",
    "\n",
    "In the cell below, fill in the variables values to print answers to these questions:\n",
    "\n",
    "- What is the mean Fahrenheit temperature in the data (`temp_mean` variable calculated from the `TEMP` column)?\n",
    "- What is the standard deviation of the Maximum temperature (`temp_max_std` variable calculated from the `MAX` column)?\n",
    "- How many unique stations exists in the data (`station_count` variable calcualted from the `USAF` column)?"
   ]
  },
  {
   "cell_type": "code",
   "execution_count": null,
   "metadata": {
    "deletable": false,
    "nbgrader": {
     "cell_type": "code",
     "checksum": "2d34ea6a4078022adc8d4de5a765dc9f",
     "grade": false,
     "grade_id": "basic_statistics",
     "locked": false,
     "schema_version": 3,
     "solution": true
    }
   },
   "outputs": [],
   "source": [
    "# Calculate mean temperature\n",
    "temp_mean = None\n",
    "\n",
    "# Calculate standard deviaton of the maximum temperature:\n",
    "temp_max_std = None\n",
    "\n",
    "#Calculate number of unique stations:\n",
    "station_count = None\n",
    "\n",
    "# REPLACE THE ERROR BELOW WITH YOUR OWN CODE\n",
    "raise NotImplementedError()"
   ]
  },
  {
   "cell_type": "code",
   "execution_count": null,
   "metadata": {
    "deletable": false,
    "editable": false,
    "nbgrader": {
     "cell_type": "code",
     "checksum": "912ac2e5cc40d9ac295268e035e5e6fd",
     "grade": true,
     "grade_id": "problem_1_basic_statistics_test1",
     "locked": true,
     "points": 0.3,
     "schema_version": 3,
     "solution": false
    }
   },
   "outputs": [],
   "source": [
    "# Check mean temperature value\n",
    "print(\"The mean temperature in Fahrenheit is \", round(temp_mean,1))"
   ]
  },
  {
   "cell_type": "code",
   "execution_count": null,
   "metadata": {
    "deletable": false,
    "editable": false,
    "nbgrader": {
     "cell_type": "code",
     "checksum": "45bc8539c09f6e872e6389f8cad280fd",
     "grade": true,
     "grade_id": "problem_1_basic_statistics_test2",
     "locked": true,
     "points": 0.3,
     "schema_version": 3,
     "solution": false
    }
   },
   "outputs": [],
   "source": [
    "# Check standard deviation value\n",
    "print(\"The standard deviation of maximum temperature is \", round(temp_max_std, 1))"
   ]
  },
  {
   "cell_type": "code",
   "execution_count": null,
   "metadata": {
    "deletable": false,
    "editable": false,
    "nbgrader": {
     "cell_type": "code",
     "checksum": "c56478b3c8e196bdf7132b173c8bdea7",
     "grade": true,
     "grade_id": "problem_1_basic_statistics_test",
     "locked": true,
     "points": 0.4,
     "schema_version": 3,
     "solution": false
    }
   },
   "outputs": [],
   "source": [
    "# Check number of stations value\n",
    "print(\"The number of unique stations is \", station_count)"
   ]
  },
  {
   "cell_type": "markdown",
   "metadata": {
    "deletable": false,
    "editable": false,
    "nbgrader": {
     "cell_type": "markdown",
     "checksum": "4bca8dc9f4a1a727dc0ac0da7da2a1b7",
     "grade": false,
     "grade_id": "cell-f3ebf436af20e19d",
     "locked": true,
     "schema_version": 3,
     "solution": false,
     "task": false
    }
   },
   "source": [
    "### Problem 1 summary\n",
    "\n",
    "\n",
    "- Did you have any problems with Problem 1?\n",
    "\n",
    "Also, make sure to:\n",
    "\n",
    "- Check that your code includes informative comments explaining what your code does\n",
    "- Commit and push your changes to your GitHub repository for Exercise 5\n",
    "\n",
    "Please write your answers and comments below (**activate the cell by double clicking**):"
   ]
  },
  {
   "cell_type": "markdown",
   "metadata": {
    "deletable": false,
    "nbgrader": {
     "cell_type": "markdown",
     "checksum": "13843ce3b6934f712a9fa1eeb6e20e55",
     "grade": true,
     "grade_id": "problem_1_questions",
     "locked": false,
     "points": 0,
     "schema_version": 3,
     "solution": true,
     "task": false
    }
   },
   "source": [
    "YOUR ANSWER HERE"
   ]
  },
  {
   "cell_type": "markdown",
   "metadata": {
    "deletable": false,
    "editable": false,
    "nbgrader": {
     "cell_type": "markdown",
     "checksum": "d83d3441649eb0a83657cbf9b30a0825",
     "grade": false,
     "grade_id": "cell-37aec3470db70bf0",
     "locked": true,
     "schema_version": 3,
     "solution": false,
     "task": false
    }
   },
   "source": [
    "### On to Problem 2\n",
    "\n",
    "Now you can continue to [Problem 2: Data manipulation and selection](Exercise-5-problem-2.ipynb)"
   ]
  }
 ],
 "metadata": {
  "anaconda-cloud": {},
  "kernelspec": {
   "display_name": "Python 3",
   "language": "python",
   "name": "python3"
  },
  "language_info": {
   "codemirror_mode": {
    "name": "ipython",
    "version": 3
   },
   "file_extension": ".py",
   "mimetype": "text/x-python",
   "name": "python",
   "nbconvert_exporter": "python",
   "pygments_lexer": "ipython3",
   "version": "3.7.6"
  }
 },
 "nbformat": 4,
 "nbformat_minor": 4
}
