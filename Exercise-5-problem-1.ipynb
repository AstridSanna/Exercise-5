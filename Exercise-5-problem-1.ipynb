{
 "cells": [
  {
   "cell_type": "markdown",
   "source": [
    "## Problem 1 - Basic statistics of the data (*2 points*)\r\n",
    "\r\n",
    "In this problem your task is to open and explore a NOAA weather data file using Pandas. The data file name is `6153237444115dat.csv` and it is located in the `data` folder in this repository. \r\n",
    "\r\n",
    "**Notice**: Please use the proposed variable names in your solutions. The exercises are graded automatically, and the automatic tessts might otherwise fail unnecessarily. Also, please do not copy/paste existing code cells. You can add cells if you like using the `+` sign at the top of the notebook, but copying and pasting can cause the automatic tests to fail.\r\n",
    "\r\n",
    "**Your score on this problem will be based on following criteria:**\r\n",
    "\r\n",
    "- Importing the Pandas module\r\n",
    "- Reading the data using Pandas into a variable called `data`\r\n",
    "- Calculating a number of values from the data file used in this problem\r\n",
    "- Including comments that explain what most lines in the code do\r\n",
    "- Answering a couple questions at the end of the problem\r\n",
    "- Uploading your notebook to your GitHub repository for this week's exercise  "
   ],
   "metadata": {
    "deletable": false,
    "editable": false,
    "nbgrader": {
     "cell_type": "markdown",
     "checksum": "5365aa81aec5cc9921a8416a909280fa",
     "grade": false,
     "grade_id": "cell-1e760a9173223eac",
     "locked": true,
     "schema_version": 3,
     "solution": false
    }
   }
  },
  {
   "cell_type": "markdown",
   "source": [
    "### Part 1 (*0.5 points*)\r\n",
    "\r\n",
    "Your first task is to import Pandas and read in the data file.\r\n",
    "\r\n",
    "- Import the Pandas module\r\n",
    "- Read the data into a variable called `data` using Pandas \r\n",
    "\r\n",
    "**Hint**: When reading the data, you need to consider a couple of things:\r\n",
    "\r\n",
    "- Note that the input file is located in the `data` folder, and you need to consider this in the filepath when reading the file to Pandas\r\n",
    "- No-data values are specified with varying number of `*` characters in the input file. You can tell this to Pandas by specifying a following parameter in the Pandas `read_csv()` function: `na_values=['*', '**', '***', '****', '*****', '******']`     "
   ],
   "metadata": {
    "deletable": false,
    "editable": false,
    "nbgrader": {
     "cell_type": "markdown",
     "checksum": "4c4fceb3d1b0907b7cbb9423bdf09578",
     "grade": false,
     "grade_id": "cell-5f1b764c6963516b",
     "locked": true,
     "schema_version": 3,
     "solution": false,
     "task": false
    }
   }
  },
  {
   "cell_type": "code",
   "execution_count": 3,
   "source": [
    "import pandas as pd"
   ],
   "outputs": [],
   "metadata": {}
  },
  {
   "cell_type": "code",
   "execution_count": 52,
   "source": [
    "# YOUR CODE HERE\r\n",
    "data = pd.read_csv(\"6153237444115dat.csv\", na_values=['*', '**', '***', '****', '*****', '******'])\r\n"
   ],
   "outputs": [],
   "metadata": {
    "deletable": false,
    "nbgrader": {
     "cell_type": "code",
     "checksum": "1bb7fb671d8536a174292f4135568a7a",
     "grade": false,
     "grade_id": "problem_1_ag_p1_read_csv",
     "locked": false,
     "schema_version": 3,
     "solution": true
    }
   }
  },
  {
   "cell_type": "markdown",
   "source": [
    "Check that the first rows of the DataFrame look ok: "
   ],
   "metadata": {
    "deletable": false,
    "editable": false,
    "nbgrader": {
     "cell_type": "markdown",
     "checksum": "414376c4b6e7d3199c155e0cbe17b717",
     "grade": false,
     "grade_id": "cell-9bd0f6a45f7bdba8",
     "locked": true,
     "schema_version": 3,
     "solution": false,
     "task": false
    }
   }
  },
  {
   "cell_type": "code",
   "execution_count": 53,
   "source": [
    "data.head()"
   ],
   "outputs": [
    {
     "output_type": "execute_result",
     "data": {
      "text/html": [
       "<div>\n",
       "<style scoped>\n",
       "    .dataframe tbody tr th:only-of-type {\n",
       "        vertical-align: middle;\n",
       "    }\n",
       "\n",
       "    .dataframe tbody tr th {\n",
       "        vertical-align: top;\n",
       "    }\n",
       "\n",
       "    .dataframe thead th {\n",
       "        text-align: right;\n",
       "    }\n",
       "</style>\n",
       "<table border=\"1\" class=\"dataframe\">\n",
       "  <thead>\n",
       "    <tr style=\"text-align: right;\">\n",
       "      <th></th>\n",
       "      <th>USAF</th>\n",
       "      <th>WBAN</th>\n",
       "      <th>YR--MODAHRMN</th>\n",
       "      <th>DIR</th>\n",
       "      <th>SPD</th>\n",
       "      <th>GUS</th>\n",
       "      <th>CLG</th>\n",
       "      <th>SKC</th>\n",
       "      <th>L</th>\n",
       "      <th>M</th>\n",
       "      <th>...</th>\n",
       "      <th>SLP</th>\n",
       "      <th>ALT</th>\n",
       "      <th>STP</th>\n",
       "      <th>MAX</th>\n",
       "      <th>MIN</th>\n",
       "      <th>PCP01</th>\n",
       "      <th>PCP06</th>\n",
       "      <th>PCP24</th>\n",
       "      <th>PCPXX</th>\n",
       "      <th>SD</th>\n",
       "    </tr>\n",
       "  </thead>\n",
       "  <tbody>\n",
       "    <tr>\n",
       "      <th>0</th>\n",
       "      <td>28450</td>\n",
       "      <td>99999</td>\n",
       "      <td>201705010000</td>\n",
       "      <td>174.0</td>\n",
       "      <td>10.0</td>\n",
       "      <td>14.0</td>\n",
       "      <td>NaN</td>\n",
       "      <td>NaN</td>\n",
       "      <td>NaN</td>\n",
       "      <td>NaN</td>\n",
       "      <td>...</td>\n",
       "      <td>1009.2</td>\n",
       "      <td>NaN</td>\n",
       "      <td>984.1</td>\n",
       "      <td>NaN</td>\n",
       "      <td>NaN</td>\n",
       "      <td>NaN</td>\n",
       "      <td>NaN</td>\n",
       "      <td>NaN</td>\n",
       "      <td>NaN</td>\n",
       "      <td>35.0</td>\n",
       "    </tr>\n",
       "    <tr>\n",
       "      <th>1</th>\n",
       "      <td>28450</td>\n",
       "      <td>99999</td>\n",
       "      <td>201705010020</td>\n",
       "      <td>180.0</td>\n",
       "      <td>10.0</td>\n",
       "      <td>NaN</td>\n",
       "      <td>4.0</td>\n",
       "      <td>NaN</td>\n",
       "      <td>NaN</td>\n",
       "      <td>NaN</td>\n",
       "      <td>...</td>\n",
       "      <td>NaN</td>\n",
       "      <td>29.74</td>\n",
       "      <td>NaN</td>\n",
       "      <td>NaN</td>\n",
       "      <td>NaN</td>\n",
       "      <td>NaN</td>\n",
       "      <td>NaN</td>\n",
       "      <td>NaN</td>\n",
       "      <td>NaN</td>\n",
       "      <td>NaN</td>\n",
       "    </tr>\n",
       "    <tr>\n",
       "      <th>2</th>\n",
       "      <td>28450</td>\n",
       "      <td>99999</td>\n",
       "      <td>201705010050</td>\n",
       "      <td>190.0</td>\n",
       "      <td>10.0</td>\n",
       "      <td>NaN</td>\n",
       "      <td>4.0</td>\n",
       "      <td>NaN</td>\n",
       "      <td>NaN</td>\n",
       "      <td>NaN</td>\n",
       "      <td>...</td>\n",
       "      <td>NaN</td>\n",
       "      <td>29.74</td>\n",
       "      <td>NaN</td>\n",
       "      <td>NaN</td>\n",
       "      <td>NaN</td>\n",
       "      <td>NaN</td>\n",
       "      <td>NaN</td>\n",
       "      <td>NaN</td>\n",
       "      <td>NaN</td>\n",
       "      <td>NaN</td>\n",
       "    </tr>\n",
       "    <tr>\n",
       "      <th>3</th>\n",
       "      <td>28450</td>\n",
       "      <td>99999</td>\n",
       "      <td>201705010100</td>\n",
       "      <td>188.0</td>\n",
       "      <td>12.0</td>\n",
       "      <td>16.0</td>\n",
       "      <td>NaN</td>\n",
       "      <td>NaN</td>\n",
       "      <td>NaN</td>\n",
       "      <td>NaN</td>\n",
       "      <td>...</td>\n",
       "      <td>1009.1</td>\n",
       "      <td>NaN</td>\n",
       "      <td>984.0</td>\n",
       "      <td>NaN</td>\n",
       "      <td>NaN</td>\n",
       "      <td>NaN</td>\n",
       "      <td>NaN</td>\n",
       "      <td>NaN</td>\n",
       "      <td>NaN</td>\n",
       "      <td>35.0</td>\n",
       "    </tr>\n",
       "    <tr>\n",
       "      <th>4</th>\n",
       "      <td>28450</td>\n",
       "      <td>99999</td>\n",
       "      <td>201705010120</td>\n",
       "      <td>200.0</td>\n",
       "      <td>13.0</td>\n",
       "      <td>NaN</td>\n",
       "      <td>2.0</td>\n",
       "      <td>OBS</td>\n",
       "      <td>NaN</td>\n",
       "      <td>NaN</td>\n",
       "      <td>...</td>\n",
       "      <td>NaN</td>\n",
       "      <td>29.74</td>\n",
       "      <td>NaN</td>\n",
       "      <td>NaN</td>\n",
       "      <td>NaN</td>\n",
       "      <td>NaN</td>\n",
       "      <td>NaN</td>\n",
       "      <td>NaN</td>\n",
       "      <td>NaN</td>\n",
       "      <td>NaN</td>\n",
       "    </tr>\n",
       "  </tbody>\n",
       "</table>\n",
       "<p>5 rows × 33 columns</p>\n",
       "</div>"
      ],
      "text/plain": [
       "    USAF   WBAN  YR--MODAHRMN    DIR   SPD   GUS  CLG  SKC   L   M  ...  \\\n",
       "0  28450  99999  201705010000  174.0  10.0  14.0  NaN  NaN NaN NaN  ...   \n",
       "1  28450  99999  201705010020  180.0  10.0   NaN  4.0  NaN NaN NaN  ...   \n",
       "2  28450  99999  201705010050  190.0  10.0   NaN  4.0  NaN NaN NaN  ...   \n",
       "3  28450  99999  201705010100  188.0  12.0  16.0  NaN  NaN NaN NaN  ...   \n",
       "4  28450  99999  201705010120  200.0  13.0   NaN  2.0  OBS NaN NaN  ...   \n",
       "\n",
       "      SLP    ALT    STP  MAX  MIN  PCP01  PCP06  PCP24  PCPXX    SD  \n",
       "0  1009.2    NaN  984.1  NaN  NaN    NaN    NaN    NaN    NaN  35.0  \n",
       "1     NaN  29.74    NaN  NaN  NaN    NaN    NaN    NaN    NaN   NaN  \n",
       "2     NaN  29.74    NaN  NaN  NaN    NaN    NaN    NaN    NaN   NaN  \n",
       "3  1009.1    NaN  984.0  NaN  NaN    NaN    NaN    NaN    NaN  35.0  \n",
       "4     NaN  29.74    NaN  NaN  NaN    NaN    NaN    NaN    NaN   NaN  \n",
       "\n",
       "[5 rows x 33 columns]"
      ]
     },
     "metadata": {},
     "execution_count": 53
    }
   ],
   "metadata": {
    "deletable": false,
    "editable": false,
    "nbgrader": {
     "cell_type": "code",
     "checksum": "09c07ed4bf42c857eb8c00e0035545c2",
     "grade": true,
     "grade_id": "problem_1_ag_p1_read_csv_test",
     "locked": true,
     "points": 0.5,
     "schema_version": 3,
     "solution": false
    }
   }
  },
  {
   "cell_type": "markdown",
   "source": [
    "### Part 2 (*0.5 points*)   \n",
    "\n",
    "In the cell below, fill in the variables values to print answers to these questions:\n",
    "\n",
    "- How many rows is there in the data (variable `rows`)?\n",
    "- What are the column names (variable `column_names`)?\n",
    "- What are the datatypes of the columns (variable `column_datatypes`)?"
   ],
   "metadata": {
    "deletable": false,
    "editable": false,
    "nbgrader": {
     "cell_type": "markdown",
     "checksum": "224e1ad366dfb16df3cf676cf1b59490",
     "grade": false,
     "grade_id": "cell-52993769979e9829",
     "locked": true,
     "schema_version": 3,
     "solution": false,
     "task": false
    }
   }
  },
  {
   "cell_type": "code",
   "execution_count": 54,
   "source": [
    "# YOUR CODE HERE\r\n",
    "row_count = len(data)\r\n",
    "column_names = data.columns.values\r\n",
    "column_datatypes = type(data)\r\n"
   ],
   "outputs": [],
   "metadata": {
    "deletable": false,
    "nbgrader": {
     "cell_type": "code",
     "checksum": "b81d76f8a8bf1cc4cdc32f9684e0160f",
     "grade": false,
     "grade_id": "problem_1_ag_p2_pandas_data",
     "locked": false,
     "schema_version": 3,
     "solution": true,
     "task": false
    }
   }
  },
  {
   "cell_type": "code",
   "execution_count": 35,
   "source": [
    "# Print the number of rows in the dataframe:\r\n",
    "print(\"There are \" + str(row_count) + \" rows\")"
   ],
   "outputs": [
    {
     "output_type": "stream",
     "name": "stdout",
     "text": [
      "There are 11694 rows\n"
     ]
    }
   ],
   "metadata": {
    "deletable": false,
    "editable": false,
    "nbgrader": {
     "cell_type": "code",
     "checksum": "985c6e49213c608cfa8fca36bde32122",
     "grade": true,
     "grade_id": "problem_1_ag_p2_pandas_data_test1",
     "locked": true,
     "points": 0.1,
     "schema_version": 3,
     "solution": false
    }
   }
  },
  {
   "cell_type": "code",
   "execution_count": 50,
   "source": [
    "# Print the column names:\r\n",
    "print(\"The columns are: \\n\", column_names)"
   ],
   "outputs": [
    {
     "output_type": "stream",
     "name": "stdout",
     "text": [
      "The columns are: \n",
      " ['YEARMODA' 'TEMP' 'MAX' 'MIN']\n"
     ]
    }
   ],
   "metadata": {
    "deletable": false,
    "editable": false,
    "nbgrader": {
     "cell_type": "code",
     "checksum": "7e595ca82b0ac636d3be0a78537f5182",
     "grade": true,
     "grade_id": "problem_1_ag_p2_pandas_data_test2",
     "locked": true,
     "points": 0.2,
     "schema_version": 3,
     "solution": false
    }
   }
  },
  {
   "cell_type": "code",
   "execution_count": 43,
   "source": [
    "# Print the column datatypes:\r\n",
    "print(\"The column types are: \\n\", column_datatypes)"
   ],
   "outputs": [
    {
     "output_type": "stream",
     "name": "stdout",
     "text": [
      "The column types are: \n",
      " <class 'pandas.core.frame.DataFrame'>\n"
     ]
    }
   ],
   "metadata": {
    "deletable": false,
    "editable": false,
    "nbgrader": {
     "cell_type": "code",
     "checksum": "508b3773419131b99fa7ade0f6bef444",
     "grade": true,
     "grade_id": "problem_1_ag_p2_pandas_data_test3",
     "locked": true,
     "points": 0.2,
     "schema_version": 3,
     "solution": false
    }
   }
  },
  {
   "cell_type": "markdown",
   "source": [
    "### Part 3 (*1 point*)   \n",
    "\n",
    "In the cell below, fill in the variables values to print answers to these questions:\n",
    "\n",
    "- What is the mean Fahrenheit temperature in the data (`temp_mean` variable calculated from the `TEMP` column)?\n",
    "- What is the standard deviation of the Maximum temperature (`temp_max_std` variable calculated from the `MAX` column)?\n",
    "- How many unique stations exists in the data (`station_count` variable calcualted from the `USAF` column)?"
   ],
   "metadata": {
    "deletable": false,
    "editable": false,
    "nbgrader": {
     "cell_type": "markdown",
     "checksum": "5fa7ac25622de7ff1415b83467ea2b46",
     "grade": false,
     "grade_id": "cell-084bfa64c8d7ad54",
     "locked": true,
     "schema_version": 3,
     "solution": false,
     "task": false
    }
   }
  },
  {
   "cell_type": "code",
   "execution_count": 68,
   "source": [
    "# YOUR CODE HERE\r\n",
    "# Calculate mean temperature\r\n",
    "temp_mean = data['TEMP'].mean()\r\n",
    "\r\n",
    "# Calculate standard deviaton of the maximum temperature:\r\n",
    "temp_max_std = data[\"MAX\"].std()\r\n",
    "\r\n",
    "#Calculate number of unique stations:\r\n",
    "station_count = len(data[\"USAF\"].unique())\r\n"
   ],
   "outputs": [],
   "metadata": {
    "deletable": false,
    "nbgrader": {
     "cell_type": "code",
     "checksum": "af2469d960da066f500cb07f3e2e27ea",
     "grade": false,
     "grade_id": "problem_1_ag_p3_basic_statistics",
     "locked": false,
     "schema_version": 3,
     "solution": true
    }
   }
  },
  {
   "cell_type": "code",
   "execution_count": 69,
   "source": [
    "# Check mean temperature value\r\n",
    "print(\"The mean temperature in Fahrenheit is \", round(temp_mean,1))"
   ],
   "outputs": [
    {
     "output_type": "stream",
     "name": "stdout",
     "text": [
      "The mean temperature in Fahrenheit is  52.2\n"
     ]
    }
   ],
   "metadata": {
    "deletable": false,
    "editable": false,
    "nbgrader": {
     "cell_type": "code",
     "checksum": "0ad54e4a7714100655049e21e672ab3f",
     "grade": true,
     "grade_id": "problem_1_ag_p3_basic_statistics_test1",
     "locked": true,
     "points": 0.3,
     "schema_version": 3,
     "solution": false
    }
   }
  },
  {
   "cell_type": "code",
   "execution_count": 70,
   "source": [
    "# Check standard deviation value\r\n",
    "print(\"The standard deviation of maximum temperature is \", round(temp_max_std, 1))"
   ],
   "outputs": [
    {
     "output_type": "stream",
     "name": "stdout",
     "text": [
      "The standard deviation of maximum temperature is  10.3\n"
     ]
    }
   ],
   "metadata": {
    "deletable": false,
    "editable": false,
    "nbgrader": {
     "cell_type": "code",
     "checksum": "cc8a924fea818c5f3aa6a4f4a98e3ba9",
     "grade": true,
     "grade_id": "problem_1_ag_p3_basic_statistics_test2",
     "locked": true,
     "points": 0.3,
     "schema_version": 3,
     "solution": false
    }
   }
  },
  {
   "cell_type": "code",
   "execution_count": 71,
   "source": [
    "# Check number of stations value\r\n",
    "print(\"The number of unique stations is \", station_count)"
   ],
   "outputs": [
    {
     "output_type": "stream",
     "name": "stdout",
     "text": [
      "The number of unique stations is  2\n"
     ]
    }
   ],
   "metadata": {
    "deletable": false,
    "editable": false,
    "nbgrader": {
     "cell_type": "code",
     "checksum": "54c9b2f0f169304d52a07599010a298d",
     "grade": true,
     "grade_id": "problem_1_ag_p3_basic_statistics_test",
     "locked": true,
     "points": 0.4,
     "schema_version": 3,
     "solution": false
    }
   }
  },
  {
   "cell_type": "markdown",
   "source": [
    "### Problem 1 summary\n",
    "\n",
    "\n",
    "- Did you have any problems with Problem 1?\n",
    "\n",
    "Also, make sure to:\n",
    "\n",
    "- Check that your code includes informative comments explaining what your code does\n",
    "- Commit and push your changes to your GitHub repository for Exercise 5\n",
    "\n",
    "Please write your answers and comments below (**activate the cell by double clicking**):"
   ],
   "metadata": {
    "deletable": false,
    "editable": false,
    "nbgrader": {
     "cell_type": "markdown",
     "checksum": "4bca8dc9f4a1a727dc0ac0da7da2a1b7",
     "grade": false,
     "grade_id": "cell-f3ebf436af20e19d",
     "locked": true,
     "schema_version": 3,
     "solution": false,
     "task": false
    }
   }
  },
  {
   "cell_type": "markdown",
   "source": [
    "YOUR ANSWER HERE"
   ],
   "metadata": {
    "deletable": false,
    "nbgrader": {
     "cell_type": "markdown",
     "checksum": "6fe20aad593946c95bf5f152d560375b",
     "grade": true,
     "grade_id": "problem_1_mg_p4_questions",
     "locked": false,
     "points": 0,
     "schema_version": 3,
     "solution": true,
     "task": false
    }
   }
  },
  {
   "cell_type": "markdown",
   "source": [
    "### On to Problem 2\n",
    "\n",
    "Now you can continue to [Problem 2: Data manipulation and selection](Exercise-5-problem-2.ipynb)"
   ],
   "metadata": {
    "deletable": false,
    "editable": false,
    "nbgrader": {
     "cell_type": "markdown",
     "checksum": "d83d3441649eb0a83657cbf9b30a0825",
     "grade": false,
     "grade_id": "cell-37aec3470db70bf0",
     "locked": true,
     "schema_version": 3,
     "solution": false,
     "task": false
    }
   }
  }
 ],
 "metadata": {
  "anaconda-cloud": {},
  "kernelspec": {
   "name": "python3",
   "display_name": "Python 3.9.6 64-bit"
  },
  "language_info": {
   "codemirror_mode": {
    "name": "ipython",
    "version": 3
   },
   "file_extension": ".py",
   "mimetype": "text/x-python",
   "name": "python",
   "nbconvert_exporter": "python",
   "pygments_lexer": "ipython3",
   "version": "3.9.6"
  },
  "interpreter": {
   "hash": "63fd5069d213b44bf678585dea6b12cceca9941eaf7f819626cde1f2670de90d"
  }
 },
 "nbformat": 4,
 "nbformat_minor": 4
}